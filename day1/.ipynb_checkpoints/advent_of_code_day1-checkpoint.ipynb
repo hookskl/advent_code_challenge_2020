{
 "cells": [
  {
   "cell_type": "markdown",
   "metadata": {},
   "source": [
    "# --Day 1: Report Repair--"
   ]
  },
  {
   "cell_type": "markdown",
   "metadata": {},
   "source": [
    "After saving Christmas five years in a row, you've decided to take a vacation at a nice resort on a tropical island. Surely, Christmas will go on without you.\n",
    "\n",
    "The tropical island has its own currency and is entirely cash-only. The gold coins used there have a little picture of a starfish; the locals just call them stars. None of the currency exchanges seem to have heard of them, but somehow, you'll need to find fifty of these coins by the time you arrive so you can pay the deposit on your room.\n",
    "\n",
    "To save your vacation, you need to get all fifty stars by December 25th.\n",
    "\n",
    "Collect stars by solving puzzles. Two puzzles will be made available on each day in the Advent calendar; the second puzzle is unlocked when you complete the first. Each puzzle grants one star. Good luck!"
   ]
  },
  {
   "cell_type": "markdown",
   "metadata": {},
   "source": [
    "## Part 1:"
   ]
  },
  {
   "cell_type": "markdown",
   "metadata": {},
   "source": [
    "Collect stars by solving puzzles. Two puzzles will be made available on each day in the Advent calendar; the second puzzle is unlocked when you complete the first. Each puzzle grants one star. Good luck!\n",
    "\n",
    "Before you leave, the Elves in accounting just need you to fix your expense report (your puzzle input); apparently, something isn't quite adding up.\n",
    "\n",
    "Specifically, they need you to find the two entries that sum to 2020 and then multiply those two numbers together.\n",
    "\n",
    "For example, suppose your expense report contained the following: **1721,979,366,299,675,1456**\n",
    "\n"
   ]
  },
  {
   "cell_type": "markdown",
   "metadata": {},
   "source": [
    "In this list, the two entries that sum to **2020** are **1721** and **299**. Multiplying them together produces **1721 * 299 = 514579**, so the correct answer is **514579**.\n",
    "\n",
    "Of course, your expense report is much larger. Find the two entries that sum to 2020; what do you get if you multiply them together?"
   ]
  },
  {
   "cell_type": "code",
   "execution_count": 10,
   "metadata": {},
   "outputs": [],
   "source": [
    "# Read in input file\n",
    "f = open('advent_of_code_day_1.txt', 'r')\n",
    "values = f.read().split('\\n')\n",
    "f.close()"
   ]
  },
  {
   "cell_type": "code",
   "execution_count": 12,
   "metadata": {},
   "outputs": [
    {
     "name": "stdout",
     "output_type": "stream",
     "text": [
      "1899\n"
     ]
    }
   ],
   "source": [
    "# Convert entries to integers\n",
    "values = [int(x) for x in values]\n",
    "print(values[0])"
   ]
  },
  {
   "cell_type": "code",
   "execution_count": 16,
   "metadata": {},
   "outputs": [],
   "source": [
    "def sum_value(values, target):\n",
    "    '''\n",
    "    Finds two values in a given list that when summed equal a given number.\n",
    "    \n",
    "        Parameters:\n",
    "                values (list): A list of integers\n",
    "                target  (int): Number the two values should sum to.\n",
    "                \n",
    "        Returns:\n",
    "                val * cand (int): Product of the two solution values. If no solution exists returns 0.\n",
    "    '''\n",
    "    for val in values:\n",
    "        cand = target - val\n",
    "        if cand in values:\n",
    "            return val * cand\n",
    "    return 0"
   ]
  },
  {
   "cell_type": "code",
   "execution_count": 17,
   "metadata": {},
   "outputs": [
    {
     "name": "stdout",
     "output_type": "stream",
     "text": [
      "542619\n"
     ]
    }
   ],
   "source": [
    "print(sum_value(values, 2020))"
   ]
  },
  {
   "cell_type": "markdown",
   "metadata": {},
   "source": [
    "## --- Part Two ---"
   ]
  },
  {
   "cell_type": "markdown",
   "metadata": {},
   "source": [
    "The Elves in accounting are thankful for your help; one of them even offers you a starfish coin they had left over from a past vacation. They offer you a second one if you can find three numbers in your expense report that meet the same criteria.\n",
    "\n",
    "Using the above example again, the three entries that sum to 2020 are 979, 366, and 675. Multiplying them together produces the answer, 241861950.\n",
    "\n",
    "In your expense report, what is the product of the three entries that sum to 2020?"
   ]
  },
  {
   "cell_type": "code",
   "execution_count": 24,
   "metadata": {},
   "outputs": [],
   "source": [
    "def sum_value_two(values, target):\n",
    "    '''\n",
    "    Finds three values in a given list that when summed equal a given number.\n",
    "    \n",
    "        Parameters:\n",
    "                values (list): A list of integers\n",
    "                target  (int): Number the three values should sum to.\n",
    "                \n",
    "        Returns:\n",
    "                prod (int): Product of the three solution values. If no solution exists returns 0.\n",
    "    '''    \n",
    "    for i in range(len(values)):\n",
    "        val = values[i]\n",
    "        cand = target - val \n",
    "        templist = values[:]\n",
    "        del templist[i]\n",
    "        prod = val * sum_value(templist, cand)\n",
    "        if prod > 0:\n",
    "            return prod\n",
    "    return 0"
   ]
  },
  {
   "cell_type": "code",
   "execution_count": 25,
   "metadata": {},
   "outputs": [
    {
     "name": "stdout",
     "output_type": "stream",
     "text": [
      "32858450\n"
     ]
    }
   ],
   "source": [
    "print(sum_value_two(values, 2020))"
   ]
  }
 ],
 "metadata": {
  "kernelspec": {
   "display_name": "Python 3",
   "language": "python",
   "name": "python3"
  },
  "language_info": {
   "codemirror_mode": {
    "name": "ipython",
    "version": 3
   },
   "file_extension": ".py",
   "mimetype": "text/x-python",
   "name": "python",
   "nbconvert_exporter": "python",
   "pygments_lexer": "ipython3",
   "version": "3.8.2"
  }
 },
 "nbformat": 4,
 "nbformat_minor": 4
}
