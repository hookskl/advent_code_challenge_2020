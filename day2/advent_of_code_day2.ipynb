{
 "cells": [
  {
   "cell_type": "markdown",
   "metadata": {},
   "source": [
    "# --- Day 2: Password Philosophy ---\n",
    "## Part 1"
   ]
  },
  {
   "cell_type": "markdown",
   "metadata": {},
   "source": [
    "Your flight departs in a few days from the coastal airport; the easiest way down to the coast from here is via toboggan.\n",
    "\n",
    "The shopkeeper at the North Pole Toboggan Rental Shop is having a bad day. \"Something's wrong with our computers; we can't log in!\" You ask if you can take a look.\n",
    "\n",
    "Their password database seems to be a little corrupted: some of the passwords wouldn't have been allowed by the Official Toboggan Corporate Policy that was in effect when they were chosen.\n",
    "\n",
    "To try to debug the problem, they have created a list (your puzzle input) of passwords (according to the corrupted database) and the corporate policy when that password was set.\n",
    "\n",
    "For example, suppose you have the following list:\n",
    "\n",
    "1-3 a: abcde  \n",
    "1-3 b: cdefg  \n",
    "2-9 c: ccccccccc\n",
    "\n",
    "Each line gives the password policy and then the password. The password policy indicates the lowest and highest number of times a given letter must appear for the password to be valid. For example, 1-3 a means that the password must contain a at least 1 time and at most 3 times.\n",
    "\n",
    "In the above example, 2 passwords are valid. The middle password, cdefg, is not; it contains no instances of b, but needs at least 1. The first and third passwords are valid: they contain one a or nine c, both within the limits of their respective policies.\n",
    "\n",
    "How many passwords are valid according to their policies?"
   ]
  },
  {
   "cell_type": "code",
   "execution_count": 1,
   "metadata": {},
   "outputs": [
    {
     "name": "stdout",
     "output_type": "stream",
     "text": [
      "7-9 l: vslmtglbc\n"
     ]
    }
   ],
   "source": [
    "f = open('advent_of_code_day_2.txt', 'r')\n",
    "passwords = f.read().split('\\n')\n",
    "print(passwords[0])"
   ]
  },
  {
   "cell_type": "code",
   "execution_count": 2,
   "metadata": {},
   "outputs": [],
   "source": [
    "def valid_pwd(vals):\n",
    "    '''\n",
    "    Returns a boolean indicating if a password adheres to its given policy.\n",
    "\n",
    "            Parameters:\n",
    "                    vals (list): A list containing the password policy and the password. Ex. ['1-3', 'b:', 'cdefg']\n",
    "\n",
    "            Returns:\n",
    "                    (count >= rule_lower) & (count <= rule_higher) (bool): Boolean indicating if the password follows its policy. \n",
    "                                                                           True indicates the password does follow its policy.\n",
    "                    \n",
    "    '''    \n",
    "    rules = vals[0].split(\"-\")\n",
    "    rule_lower = int(rules[0])\n",
    "    rule_higher = int(rules[-1])\n",
    "    letter = vals[1][0]\n",
    "    pwd = vals[-1]\n",
    "    count = 0\n",
    "    for l in pwd:\n",
    "        if l == letter:\n",
    "            count += 1\n",
    "    return (count >= rule_lower) & (count <= rule_higher)"
   ]
  },
  {
   "cell_type": "code",
   "execution_count": 3,
   "metadata": {},
   "outputs": [
    {
     "name": "stdout",
     "output_type": "stream",
     "text": [
      "614\n"
     ]
    }
   ],
   "source": [
    "print(sum([valid_pwd(pwd.split()) for pwd in passwords]))"
   ]
  },
  {
   "cell_type": "markdown",
   "metadata": {},
   "source": [
    "## --- Part Two ---\n",
    "\n",
    "While it appears you validated the passwords correctly, they don't seem to be what the Official Toboggan Corporate Authentication System is expecting.\n",
    "\n",
    "The shopkeeper suddenly realizes that he just accidentally explained the password policy rules from his old job at the sled rental place down the street! The Official Toboggan Corporate Policy actually works a little differently.\n",
    "\n",
    "Each policy actually describes two positions in the password, where 1 means the first character, 2 means the second character, and so on. (Be careful; Toboggan Corporate Policies have no concept of \"index zero\"!) Exactly one of these positions must contain the given letter. Other occurrences of the letter are irrelevant for the purposes of policy enforcement.\n",
    "\n",
    "Given the same example list from above:  \n",
    "- 1-3 a: abcde is valid: position 1 contains a and position 3 does not.\n",
    "- 1-3 b: cdefg is invalid: neither position 1 nor position 3 contains b.\n",
    "- 2-9 c: ccccccccc is invalid: both position 2 and position 9 contain c.\n",
    "\n",
    "How many passwords are valid according to the new interpretation of the policies?"
   ]
  },
  {
   "cell_type": "code",
   "execution_count": 4,
   "metadata": {},
   "outputs": [],
   "source": [
    "def valid_pwd_2(vals):\n",
    "    '''\n",
    "    Returns a boolean indicating if a password adheres to its given policy.\n",
    "\n",
    "            Parameters:\n",
    "                    vals (list): A list containing the password policy and the password. Ex. ['1-3', 'b:', 'cdefg']\n",
    "\n",
    "            Returns:\n",
    "                    True/False (bool): Boolean indicating if the password follows its policy. True indicates the password \n",
    "                                       does follow its policy.\n",
    "                    \n",
    "    '''     \n",
    "    rules = vals[0].split(\"-\")\n",
    "    rule_lower = int(rules[0])\n",
    "    rule_higher = int(rules[-1])\n",
    "    letter = vals[1][0]\n",
    "    pwd = vals[-1]\n",
    "    bounds = [pwd[rule_lower - 1], pwd[rule_higher - 1]]\n",
    "    if letter in bounds:\n",
    "        if bounds[0] != bounds[1]:\n",
    "          return True\n",
    "    return False"
   ]
  },
  {
   "cell_type": "code",
   "execution_count": 5,
   "metadata": {},
   "outputs": [
    {
     "name": "stdout",
     "output_type": "stream",
     "text": [
      "354\n"
     ]
    }
   ],
   "source": [
    "print(sum([valid_pwd_2(pwd.split()) for pwd in passwords]))"
   ]
  }
 ],
 "metadata": {
  "kernelspec": {
   "display_name": "Python 3",
   "language": "python",
   "name": "python3"
  },
  "language_info": {
   "codemirror_mode": {
    "name": "ipython",
    "version": 3
   },
   "file_extension": ".py",
   "mimetype": "text/x-python",
   "name": "python",
   "nbconvert_exporter": "python",
   "pygments_lexer": "ipython3",
   "version": "3.8.2"
  }
 },
 "nbformat": 4,
 "nbformat_minor": 4
}
